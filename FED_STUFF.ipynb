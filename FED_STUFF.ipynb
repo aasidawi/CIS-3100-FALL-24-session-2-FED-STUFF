{
  "nbformat": 4,
  "nbformat_minor": 0,
  "metadata": {
    "colab": {
      "provenance": []
    },
    "kernelspec": {
      "name": "python3",
      "display_name": "Python 3"
    },
    "language_info": {
      "name": "python"
    }
  },
  "cells": [
    {
      "cell_type": "code",
      "execution_count": 4,
      "metadata": {
        "id": "Zsh__RqHu91G"
      },
      "outputs": [],
      "source": [
        "FED_KEY = '852924478e33d93a05cf0f865ebb01f6'"
      ]
    },
    {
      "cell_type": "code",
      "source": [
        "using the above api key, use federal reserve data (FRED) to get bitcoin and CPI announcement data, and construct a granger causality analysis between these two data sets\n"
      ],
      "metadata": {
        "colab": {
          "base_uri": "https://localhost:8080/",
          "height": 106
        },
        "id": "pkwvmV6U3S5h",
        "outputId": "60832ce3-270d-43fb-d044-4045d918e556"
      },
      "execution_count": 12,
      "outputs": [
        {
          "output_type": "error",
          "ename": "SyntaxError",
          "evalue": "invalid syntax (<ipython-input-12-cd4f0027f25a>, line 1)",
          "traceback": [
            "\u001b[0;36m  File \u001b[0;32m\"<ipython-input-12-cd4f0027f25a>\"\u001b[0;36m, line \u001b[0;32m1\u001b[0m\n\u001b[0;31m    using the above api key, use federal reserve data (FRED) to get bitcoin and CPI announcement data, and construct a granger causality analysis between these two data sets\u001b[0m\n\u001b[0m          ^\u001b[0m\n\u001b[0;31mSyntaxError\u001b[0m\u001b[0;31m:\u001b[0m invalid syntax\n"
          ]
        }
      ]
    }
  ]
}